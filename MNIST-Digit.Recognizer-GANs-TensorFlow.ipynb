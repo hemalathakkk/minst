{
 "cells": [
  {
   "cell_type": "code",
   "execution_count": 1,
   "metadata": {},
   "outputs": [],
   "source": [
    "%matplotlib inline\n",
    "\n",
    "import pickle as pkl\n",
    "import numpy as np\n",
    "import tensorflow as tf\n",
    "import matplotlib.pyplot as plt"
   ]
  },
  {
   "cell_type": "code",
   "execution_count": 2,
   "metadata": {},
   "outputs": [
    {
     "name": "stdout",
     "output_type": "stream",
     "text": [
      "WARNING:tensorflow:From <ipython-input-2-3efd1c79f029>:2: read_data_sets (from tensorflow.contrib.learn.python.learn.datasets.mnist) is deprecated and will be removed in a future version.\n",
      "Instructions for updating:\n",
      "Please use alternatives such as official/mnist/dataset.py from tensorflow/models.\n",
      "WARNING:tensorflow:From /Users/sumitsaha/anaconda/lib/python3.6/site-packages/tensorflow/contrib/learn/python/learn/datasets/mnist.py:260: maybe_download (from tensorflow.contrib.learn.python.learn.datasets.base) is deprecated and will be removed in a future version.\n",
      "Instructions for updating:\n",
      "Please write your own downloading logic.\n",
      "WARNING:tensorflow:From /Users/sumitsaha/anaconda/lib/python3.6/site-packages/tensorflow/contrib/learn/python/learn/datasets/base.py:252: _internal_retry.<locals>.wrap.<locals>.wrapped_fn (from tensorflow.contrib.learn.python.learn.datasets.base) is deprecated and will be removed in a future version.\n",
      "Instructions for updating:\n",
      "Please use urllib or similar directly.\n",
      "Successfully downloaded train-images-idx3-ubyte.gz 9912422 bytes.\n",
      "WARNING:tensorflow:From /Users/sumitsaha/anaconda/lib/python3.6/site-packages/tensorflow/contrib/learn/python/learn/datasets/mnist.py:262: extract_images (from tensorflow.contrib.learn.python.learn.datasets.mnist) is deprecated and will be removed in a future version.\n",
      "Instructions for updating:\n",
      "Please use tf.data to implement this functionality.\n",
      "Extracting MNIST_data/train-images-idx3-ubyte.gz\n",
      "Successfully downloaded train-labels-idx1-ubyte.gz 28881 bytes.\n",
      "WARNING:tensorflow:From /Users/sumitsaha/anaconda/lib/python3.6/site-packages/tensorflow/contrib/learn/python/learn/datasets/mnist.py:267: extract_labels (from tensorflow.contrib.learn.python.learn.datasets.mnist) is deprecated and will be removed in a future version.\n",
      "Instructions for updating:\n",
      "Please use tf.data to implement this functionality.\n",
      "Extracting MNIST_data/train-labels-idx1-ubyte.gz\n",
      "Successfully downloaded t10k-images-idx3-ubyte.gz 1648877 bytes.\n",
      "Extracting MNIST_data/t10k-images-idx3-ubyte.gz\n",
      "Successfully downloaded t10k-labels-idx1-ubyte.gz 4542 bytes.\n",
      "Extracting MNIST_data/t10k-labels-idx1-ubyte.gz\n",
      "WARNING:tensorflow:From /Users/sumitsaha/anaconda/lib/python3.6/site-packages/tensorflow/contrib/learn/python/learn/datasets/mnist.py:290: DataSet.__init__ (from tensorflow.contrib.learn.python.learn.datasets.mnist) is deprecated and will be removed in a future version.\n",
      "Instructions for updating:\n",
      "Please use alternatives such as official/mnist/dataset.py from tensorflow/models.\n"
     ]
    }
   ],
   "source": [
    "from tensorflow.examples.tutorials.mnist import input_data\n",
    "mnist = input_data.read_data_sets('MNIST_data')"
   ]
  },
  {
   "cell_type": "code",
   "execution_count": 3,
   "metadata": {},
   "outputs": [],
   "source": [
    "def model_inputs(real_dim, z_dim):\n",
    "    inputs_real = tf.placeholder(tf.float32, (None, real_dim), name=\"inputs_real\")\n",
    "    inputs_z = tf.placeholder(tf.float32, (None, z_dim), name=\"inputs_z\")\n",
    "    \n",
    "    return inputs_real, inputs_z"
   ]
  },
  {
   "cell_type": "code",
   "execution_count": 4,
   "metadata": {},
   "outputs": [],
   "source": [
    "def generator(z, out_dim, n_units=128, reuse=False,  alpha=0.01):\n",
    "    ''' Build the generator network.\n",
    "    \n",
    "        Arguments\n",
    "        ---------\n",
    "        z : Input tensor for the generator\n",
    "        out_dim : Shape of the generator output\n",
    "        n_units : Number of units in hidden layer\n",
    "        reuse : Reuse the variables with tf.variable_scope\n",
    "        alpha : leak parameter for leaky ReLU\n",
    "        \n",
    "        Returns\n",
    "        -------\n",
    "        out, logits: \n",
    "    '''\n",
    "    with tf.variable_scope('generator', reuse=reuse):\n",
    "        # Hidden layer\n",
    "        h1 = tf.layers.dense(z, n_units, activation=None)\n",
    "        # Leaky ReLU\n",
    "        h1 = tf.maximum(h1, alpha*h1)\n",
    "        \n",
    "        # Logits and tanh output\n",
    "        logits = tf.layers.dense(h1, out_dim, activation=None)\n",
    "        out = tf.nn.tanh(logits)\n",
    "        \n",
    "        return out, logits"
   ]
  },
  {
   "cell_type": "code",
   "execution_count": 5,
   "metadata": {},
   "outputs": [],
   "source": [
    "def discriminator(x, n_units=128, reuse=False, alpha=0.01):\n",
    "    ''' Build the discriminator network.\n",
    "    \n",
    "        Arguments\n",
    "        ---------\n",
    "        x : Input tensor for the discriminator\n",
    "        n_units: Number of units in hidden layer\n",
    "        reuse : Reuse the variables with tf.variable_scope\n",
    "        alpha : leak parameter for leaky ReLU\n",
    "        \n",
    "        Returns\n",
    "        -------\n",
    "        out, logits: \n",
    "    '''\n",
    "    with tf.variable_scope('discriminator', reuse=reuse):\n",
    "        # Hidden layer\n",
    "        h1 = tf.layers.dense(x, n_units, activation=None)\n",
    "        # Leaky ReLU\n",
    "        h1 = tf.maximum(h1, alpha*h1)\n",
    "        \n",
    "        logits = tf.layers.dense(h1, 1, activation=None)\n",
    "        out = tf.nn.sigmoid(logits)\n",
    "        \n",
    "        return out, logits"
   ]
  },
  {
   "cell_type": "code",
   "execution_count": 6,
   "metadata": {},
   "outputs": [],
   "source": [
    "# Size of input image to discriminator\n",
    "input_size = 784 # 28x28 MNIST images flattened\n",
    "# Size of latent vector to generator\n",
    "z_size = 100\n",
    "# Sizes of hidden layers in generator and discriminator\n",
    "g_hidden_size = 128\n",
    "d_hidden_size = 128\n",
    "# Leak factor for leaky ReLU\n",
    "alpha = 0.01\n",
    "# Label smoothing \n",
    "smooth = 0.1"
   ]
  },
  {
   "cell_type": "code",
   "execution_count": 7,
   "metadata": {},
   "outputs": [],
   "source": [
    "tf.reset_default_graph()\n",
    "# Create our input placeholders\n",
    "input_real, input_z = model_inputs(input_size, z_size)\n",
    "\n",
    "# Generator network here\n",
    "g_model, g_logits = generator(input_z, input_size, g_hidden_size, reuse=False,  alpha=alpha)\n",
    "# g_model is the generator output\n",
    "\n",
    "# Disriminator network here\n",
    "d_model_real, d_logits_real = discriminator(input_real, d_hidden_size, reuse=False, alpha=alpha)\n",
    "d_model_fake, d_logits_fake = discriminator(g_model, d_hidden_size, reuse=True, alpha=alpha)"
   ]
  },
  {
   "cell_type": "code",
   "execution_count": 8,
   "metadata": {},
   "outputs": [],
   "source": [
    "# Calculate losses\n",
    "d_labels_real = tf.ones_like(d_logits_real) * (1 - smooth)\n",
    "d_labels_fake = tf.zeros_like(d_logits_fake)\n",
    "\n",
    "d_loss_real = tf.nn.sigmoid_cross_entropy_with_logits(labels=d_labels_real, logits=d_logits_real)\n",
    "d_loss_fake = tf.nn.sigmoid_cross_entropy_with_logits(labels=d_labels_fake, logits=d_logits_fake)\n",
    "\n",
    "d_loss = tf.reduce_mean(d_loss_real + d_loss_fake)\n",
    "\n",
    "g_loss = tf.reduce_mean(\n",
    "    tf.nn.sigmoid_cross_entropy_with_logits(\n",
    "        labels=tf.ones_like(d_logits_fake), \n",
    "        logits=d_logits_fake))"
   ]
  },
  {
   "cell_type": "code",
   "execution_count": 9,
   "metadata": {},
   "outputs": [],
   "source": [
    "# Optimizers\n",
    "learning_rate = 0.002\n",
    "\n",
    "# Get the trainable_variables, split into G and D parts\n",
    "t_vars = tf.trainable_variables()\n",
    "g_vars = [var for var in t_vars if var.name.startswith(\"generator\")]\n",
    "d_vars = [var for var in t_vars if var.name.startswith(\"discriminator\")]\n",
    "\n",
    "d_train_opt = tf.train.AdamOptimizer().minimize(d_loss, var_list=d_vars)\n",
    "g_train_opt = tf.train.AdamOptimizer().minimize(g_loss, var_list=g_vars)"
   ]
  },
  {
   "cell_type": "code",
   "execution_count": 10,
   "metadata": {},
   "outputs": [
    {
     "name": "stdout",
     "output_type": "stream",
     "text": [
      "Epoch 1/100... Discriminator Loss: 0.3561... Generator Loss: 3.8240\n",
      "Epoch 2/100... Discriminator Loss: 0.3584... Generator Loss: 4.4306\n",
      "Epoch 3/100... Discriminator Loss: 0.4362... Generator Loss: 2.9693\n",
      "Epoch 4/100... Discriminator Loss: 0.6708... Generator Loss: 2.6325\n",
      "Epoch 5/100... Discriminator Loss: 0.6203... Generator Loss: 5.1820\n",
      "Epoch 6/100... Discriminator Loss: 0.6304... Generator Loss: 3.2012\n",
      "Epoch 7/100... Discriminator Loss: 0.7700... Generator Loss: 4.0258\n",
      "Epoch 8/100... Discriminator Loss: 0.8326... Generator Loss: 3.8314\n",
      "Epoch 9/100... Discriminator Loss: 0.9661... Generator Loss: 2.6269\n",
      "Epoch 10/100... Discriminator Loss: 1.0774... Generator Loss: 2.1008\n",
      "Epoch 11/100... Discriminator Loss: 1.7911... Generator Loss: 3.4802\n",
      "Epoch 12/100... Discriminator Loss: 1.1407... Generator Loss: 4.6123\n",
      "Epoch 13/100... Discriminator Loss: 0.9724... Generator Loss: 2.2542\n",
      "Epoch 14/100... Discriminator Loss: 1.1802... Generator Loss: 1.8292\n",
      "Epoch 15/100... Discriminator Loss: 0.9761... Generator Loss: 2.4442\n",
      "Epoch 16/100... Discriminator Loss: 1.0890... Generator Loss: 2.1163\n",
      "Epoch 17/100... Discriminator Loss: 2.1096... Generator Loss: 1.0779\n",
      "Epoch 18/100... Discriminator Loss: 1.2360... Generator Loss: 1.6923\n",
      "Epoch 19/100... Discriminator Loss: 1.1315... Generator Loss: 2.1377\n",
      "Epoch 20/100... Discriminator Loss: 1.1485... Generator Loss: 2.3239\n",
      "Epoch 21/100... Discriminator Loss: 1.1767... Generator Loss: 1.6601\n",
      "Epoch 22/100... Discriminator Loss: 1.4682... Generator Loss: 1.8922\n",
      "Epoch 23/100... Discriminator Loss: 0.9625... Generator Loss: 1.8899\n",
      "Epoch 24/100... Discriminator Loss: 1.2208... Generator Loss: 2.1187\n",
      "Epoch 25/100... Discriminator Loss: 2.3832... Generator Loss: 0.9935\n",
      "Epoch 26/100... Discriminator Loss: 1.1202... Generator Loss: 1.5293\n",
      "Epoch 27/100... Discriminator Loss: 1.1422... Generator Loss: 1.9067\n",
      "Epoch 28/100... Discriminator Loss: 1.2371... Generator Loss: 1.3611\n",
      "Epoch 29/100... Discriminator Loss: 1.2666... Generator Loss: 3.1046\n",
      "Epoch 30/100... Discriminator Loss: 1.1531... Generator Loss: 1.8515\n",
      "Epoch 31/100... Discriminator Loss: 1.3887... Generator Loss: 1.4878\n",
      "Epoch 32/100... Discriminator Loss: 1.0002... Generator Loss: 1.6086\n",
      "Epoch 33/100... Discriminator Loss: 0.7063... Generator Loss: 2.2633\n",
      "Epoch 34/100... Discriminator Loss: 0.8470... Generator Loss: 2.4351\n",
      "Epoch 35/100... Discriminator Loss: 0.7886... Generator Loss: 2.2291\n",
      "Epoch 36/100... Discriminator Loss: 0.7793... Generator Loss: 2.5075\n",
      "Epoch 37/100... Discriminator Loss: 1.2469... Generator Loss: 1.3502\n",
      "Epoch 38/100... Discriminator Loss: 0.9296... Generator Loss: 1.8604\n",
      "Epoch 39/100... Discriminator Loss: 1.2974... Generator Loss: 1.3637\n",
      "Epoch 40/100... Discriminator Loss: 1.0320... Generator Loss: 2.0042\n",
      "Epoch 41/100... Discriminator Loss: 1.3103... Generator Loss: 1.4578\n",
      "Epoch 42/100... Discriminator Loss: 1.1783... Generator Loss: 1.3918\n",
      "Epoch 43/100... Discriminator Loss: 0.9563... Generator Loss: 1.9525\n",
      "Epoch 44/100... Discriminator Loss: 0.9278... Generator Loss: 1.7312\n",
      "Epoch 45/100... Discriminator Loss: 0.7953... Generator Loss: 2.0918\n",
      "Epoch 46/100... Discriminator Loss: 0.9893... Generator Loss: 1.4778\n",
      "Epoch 47/100... Discriminator Loss: 1.1189... Generator Loss: 1.8469\n",
      "Epoch 48/100... Discriminator Loss: 0.7319... Generator Loss: 2.2378\n",
      "Epoch 49/100... Discriminator Loss: 0.8026... Generator Loss: 2.4274\n",
      "Epoch 50/100... Discriminator Loss: 0.9241... Generator Loss: 2.3042\n",
      "Epoch 51/100... Discriminator Loss: 1.0495... Generator Loss: 1.5370\n",
      "Epoch 52/100... Discriminator Loss: 0.8958... Generator Loss: 2.0996\n",
      "Epoch 53/100... Discriminator Loss: 1.0228... Generator Loss: 1.5032\n",
      "Epoch 54/100... Discriminator Loss: 1.1572... Generator Loss: 1.6359\n",
      "Epoch 55/100... Discriminator Loss: 1.0915... Generator Loss: 2.0115\n",
      "Epoch 56/100... Discriminator Loss: 1.0581... Generator Loss: 1.3305\n",
      "Epoch 57/100... Discriminator Loss: 0.8671... Generator Loss: 1.8976\n",
      "Epoch 58/100... Discriminator Loss: 0.9705... Generator Loss: 1.7999\n",
      "Epoch 59/100... Discriminator Loss: 0.9153... Generator Loss: 1.7713\n",
      "Epoch 60/100... Discriminator Loss: 1.2764... Generator Loss: 1.6034\n",
      "Epoch 61/100... Discriminator Loss: 0.8452... Generator Loss: 1.9376\n",
      "Epoch 62/100... Discriminator Loss: 1.1824... Generator Loss: 1.6124\n",
      "Epoch 63/100... Discriminator Loss: 1.1660... Generator Loss: 1.4845\n",
      "Epoch 64/100... Discriminator Loss: 0.9876... Generator Loss: 1.7493\n",
      "Epoch 65/100... Discriminator Loss: 1.3187... Generator Loss: 1.3803\n",
      "Epoch 66/100... Discriminator Loss: 1.4010... Generator Loss: 0.9926\n",
      "Epoch 67/100... Discriminator Loss: 1.0733... Generator Loss: 1.8509\n",
      "Epoch 68/100... Discriminator Loss: 1.0026... Generator Loss: 1.5109\n",
      "Epoch 69/100... Discriminator Loss: 1.3454... Generator Loss: 1.4692\n",
      "Epoch 70/100... Discriminator Loss: 1.1795... Generator Loss: 1.6431\n",
      "Epoch 71/100... Discriminator Loss: 0.9370... Generator Loss: 1.8739\n",
      "Epoch 72/100... Discriminator Loss: 1.1457... Generator Loss: 1.5855\n",
      "Epoch 73/100... Discriminator Loss: 1.2971... Generator Loss: 1.3639\n",
      "Epoch 74/100... Discriminator Loss: 1.1307... Generator Loss: 1.3781\n",
      "Epoch 75/100... Discriminator Loss: 0.9992... Generator Loss: 1.8094\n",
      "Epoch 76/100... Discriminator Loss: 1.0388... Generator Loss: 1.9728\n",
      "Epoch 77/100... Discriminator Loss: 1.0719... Generator Loss: 1.5385\n",
      "Epoch 78/100... Discriminator Loss: 1.0415... Generator Loss: 1.5476\n",
      "Epoch 79/100... Discriminator Loss: 1.2943... Generator Loss: 1.5181\n",
      "Epoch 80/100... Discriminator Loss: 1.0141... Generator Loss: 1.5015\n",
      "Epoch 81/100... Discriminator Loss: 0.8819... Generator Loss: 2.0741\n",
      "Epoch 82/100... Discriminator Loss: 1.1609... Generator Loss: 1.8775\n",
      "Epoch 83/100... Discriminator Loss: 1.0712... Generator Loss: 1.7451\n",
      "Epoch 84/100... Discriminator Loss: 0.9564... Generator Loss: 1.8585\n",
      "Epoch 85/100... Discriminator Loss: 0.9567... Generator Loss: 1.7372\n",
      "Epoch 86/100... Discriminator Loss: 1.0342... Generator Loss: 1.6448\n",
      "Epoch 87/100... Discriminator Loss: 1.1592... Generator Loss: 1.4279\n",
      "Epoch 88/100... Discriminator Loss: 1.1361... Generator Loss: 1.4641\n",
      "Epoch 89/100... Discriminator Loss: 1.0138... Generator Loss: 1.6589\n",
      "Epoch 90/100... Discriminator Loss: 1.1998... Generator Loss: 1.4391\n",
      "Epoch 91/100... Discriminator Loss: 1.1230... Generator Loss: 1.4921\n",
      "Epoch 92/100... Discriminator Loss: 0.9239... Generator Loss: 1.7604\n",
      "Epoch 93/100... Discriminator Loss: 0.9972... Generator Loss: 1.6073\n",
      "Epoch 94/100... Discriminator Loss: 1.0841... Generator Loss: 1.5243\n",
      "Epoch 95/100... Discriminator Loss: 0.9626... Generator Loss: 1.5943\n",
      "Epoch 96/100... Discriminator Loss: 1.0170... Generator Loss: 1.6332\n",
      "Epoch 97/100... Discriminator Loss: 0.9925... Generator Loss: 1.5285\n",
      "Epoch 98/100... Discriminator Loss: 1.1219... Generator Loss: 1.8597\n",
      "Epoch 99/100... Discriminator Loss: 1.0438... Generator Loss: 1.4399\n",
      "Epoch 100/100... Discriminator Loss: 1.1848... Generator Loss: 1.3992\n"
     ]
    }
   ],
   "source": [
    "batch_size = 100\n",
    "epochs = 100\n",
    "samples = []\n",
    "losses = []\n",
    "saver = tf.train.Saver(var_list = g_vars)\n",
    "with tf.Session() as sess:\n",
    "    sess.run(tf.global_variables_initializer())\n",
    "    for e in range(epochs):\n",
    "        for ii in range(mnist.train.num_examples//batch_size):\n",
    "            batch = mnist.train.next_batch(batch_size)\n",
    "            \n",
    "            # Get images, reshape and rescale to pass to D\n",
    "            batch_images = batch[0].reshape((batch_size, 784))\n",
    "            batch_images = batch_images*2 - 1\n",
    "            \n",
    "            # Sample random noise for G\n",
    "            batch_z = np.random.uniform(-1, 1, size=(batch_size, z_size))\n",
    "            \n",
    "            # Run optimizers\n",
    "            _ = sess.run(d_train_opt, feed_dict={input_real: batch_images, input_z: batch_z})\n",
    "            _ = sess.run(g_train_opt, feed_dict={input_z: batch_z})\n",
    "        \n",
    "        # At the end of each epoch, get the losses and print them out\n",
    "        train_loss_d = sess.run(d_loss, {input_z: batch_z, input_real: batch_images})\n",
    "        train_loss_g = g_loss.eval({input_z: batch_z})\n",
    "            \n",
    "        print(\"Epoch {}/{}...\".format(e+1, epochs),\n",
    "              \"Discriminator Loss: {:.4f}...\".format(train_loss_d),\n",
    "              \"Generator Loss: {:.4f}\".format(train_loss_g))    \n",
    "        # Save losses to view after training\n",
    "        losses.append((train_loss_d, train_loss_g))\n",
    "        \n",
    "        # Sample from generator as we're training for viewing afterwards\n",
    "        sample_z = np.random.uniform(-1, 1, size=(16, z_size))\n",
    "        gen_samples = sess.run(\n",
    "                       generator(input_z, input_size, reuse=True),\n",
    "                       feed_dict={input_z: sample_z})\n",
    "        samples.append(gen_samples)\n",
    "        saver.save(sess, './checkpoints/generator.ckpt')\n",
    "\n",
    "# Save training generator samples\n",
    "with open('train_samples.pkl', 'wb') as f:\n",
    "    pkl.dump(samples, f)"
   ]
  },
  {
   "cell_type": "code",
   "execution_count": 11,
   "metadata": {},
   "outputs": [],
   "source": [
    "%matplotlib inline\n",
    "\n",
    "import matplotlib.pyplot as plt"
   ]
  },
  {
   "cell_type": "code",
   "execution_count": 12,
   "metadata": {},
   "outputs": [
    {
     "data": {
      "text/plain": [
       "<matplotlib.legend.Legend at 0x12a109f98>"
      ]
     },
     "execution_count": 12,
     "metadata": {},
     "output_type": "execute_result"
    },
    {
     "data": {
      "image/png": "[encoded data removed]",
      "text/plain": [
       "<matplotlib.figure.Figure at 0x132cd9da0>"
      ]
     },
     "metadata": {
      "needs_background": "light"
     },
     "output_type": "display_data"
    }
   ],
   "source": [
    "fig, ax = plt.subplots()\n",
    "losses = np.array(losses)\n",
    "plt.plot(losses.T[0], label='Discriminator')\n",
    "plt.plot(losses.T[1], label='Generator')\n",
    "plt.title(\"Training Losses\")\n",
    "plt.legend()"
   ]
  }
 ],
 "metadata": {
  "kernelspec": {
   "display_name": "Python 3",
   "language": "python",
   "name": "python3"
  },
  "language_info": {
   "codemirror_mode": {
    "name": "ipython",
    "version": 3
   },
   "file_extension": ".py",
   "mimetype": "text/x-python",
   "name": "python",
   "nbconvert_exporter": "python",
   "pygments_lexer": "ipython3",
   "version": "3.6.6"
  }
 },
 "nbformat": 4,
 "nbformat_minor": 2
}
